{
 "cells": [
  {
   "cell_type": "markdown",
   "id": "02111f25",
   "metadata": {},
   "source": [
    "# TDT05 Machine Learning in practice challenge 2\n",
    "***Victor Jørgensen and Hans Kristian Sande***\n",
    "\n",
    "This notebook is heavily inspired by this tutorial: https://github.com/catboost/tutorials/blob/master/python_tutorial.ipynb"
   ]
  },
  {
   "cell_type": "markdown",
   "id": "ada02c21",
   "metadata": {},
   "source": [
    "## Import modules"
   ]
  },
  {
   "cell_type": "code",
   "execution_count": 1,
   "id": "326a2e03",
   "metadata": {},
   "outputs": [
    {
     "name": "stdout",
     "output_type": "stream",
     "text": [
      "No errors, all good!\n"
     ]
    }
   ],
   "source": [
    "import sklearn\n",
    "from sklearn.model_selection import train_test_split\n",
    "from sklearn.metrics import accuracy_score\n",
    "import catboost\n",
    "from catboost import CatBoostClassifier, Pool, metrics, cv\n",
    "import pandas as pd\n",
    "import numpy as np\n",
    "print(\"No errors, all good!\")"
   ]
  },
  {
   "cell_type": "markdown",
   "id": "abf65720",
   "metadata": {},
   "source": [
    "## 1.1 Data loading\n",
    "Load data from csv files using pandas."
   ]
  },
  {
   "cell_type": "code",
   "execution_count": 2,
   "id": "7a8b018e",
   "metadata": {},
   "outputs": [
    {
     "data": {
      "text/html": [
       "<div>\n",
       "<style scoped>\n",
       "    .dataframe tbody tr th:only-of-type {\n",
       "        vertical-align: middle;\n",
       "    }\n",
       "\n",
       "    .dataframe tbody tr th {\n",
       "        vertical-align: top;\n",
       "    }\n",
       "\n",
       "    .dataframe thead th {\n",
       "        text-align: right;\n",
       "    }\n",
       "</style>\n",
       "<table border=\"1\" class=\"dataframe\">\n",
       "  <thead>\n",
       "    <tr style=\"text-align: right;\">\n",
       "      <th></th>\n",
       "      <th>id</th>\n",
       "      <th>target</th>\n",
       "      <th>f0</th>\n",
       "      <th>f1</th>\n",
       "      <th>f2</th>\n",
       "      <th>f3</th>\n",
       "      <th>f4</th>\n",
       "      <th>f5</th>\n",
       "      <th>f6</th>\n",
       "      <th>f7</th>\n",
       "      <th>...</th>\n",
       "      <th>f19</th>\n",
       "      <th>f20</th>\n",
       "      <th>f21</th>\n",
       "      <th>f22</th>\n",
       "      <th>f23</th>\n",
       "      <th>f24</th>\n",
       "      <th>f25</th>\n",
       "      <th>f26</th>\n",
       "      <th>f27</th>\n",
       "      <th>f28</th>\n",
       "    </tr>\n",
       "  </thead>\n",
       "  <tbody>\n",
       "    <tr>\n",
       "      <th>0</th>\n",
       "      <td>0</td>\n",
       "      <td>0</td>\n",
       "      <td>1.0</td>\n",
       "      <td>gL</td>\n",
       "      <td>e</td>\n",
       "      <td>3.0</td>\n",
       "      <td>A</td>\n",
       "      <td>NaN</td>\n",
       "      <td>0.0</td>\n",
       "      <td>6.0</td>\n",
       "      <td>...</td>\n",
       "      <td>0.5</td>\n",
       "      <td>0.0</td>\n",
       "      <td>3.0</td>\n",
       "      <td>R</td>\n",
       "      <td>328b0cf4e</td>\n",
       "      <td>0.834041</td>\n",
       "      <td>T</td>\n",
       "      <td>N</td>\n",
       "      <td>1.0</td>\n",
       "      <td>14.2364</td>\n",
       "    </tr>\n",
       "    <tr>\n",
       "      <th>1</th>\n",
       "      <td>1</td>\n",
       "      <td>0</td>\n",
       "      <td>0.0</td>\n",
       "      <td>Rj</td>\n",
       "      <td>c</td>\n",
       "      <td>1.0</td>\n",
       "      <td>A</td>\n",
       "      <td>7.0</td>\n",
       "      <td>1.0</td>\n",
       "      <td>4.0</td>\n",
       "      <td>...</td>\n",
       "      <td>0.4</td>\n",
       "      <td>0.0</td>\n",
       "      <td>1.0</td>\n",
       "      <td>NaN</td>\n",
       "      <td>328b0cf4e</td>\n",
       "      <td>0.686021</td>\n",
       "      <td>T</td>\n",
       "      <td>N</td>\n",
       "      <td>1.0</td>\n",
       "      <td>NaN</td>\n",
       "    </tr>\n",
       "    <tr>\n",
       "      <th>2</th>\n",
       "      <td>2</td>\n",
       "      <td>0</td>\n",
       "      <td>NaN</td>\n",
       "      <td>In</td>\n",
       "      <td>a</td>\n",
       "      <td>1.0</td>\n",
       "      <td>A</td>\n",
       "      <td>10.0</td>\n",
       "      <td>1.0</td>\n",
       "      <td>6.0</td>\n",
       "      <td>...</td>\n",
       "      <td>0.5</td>\n",
       "      <td>1.0</td>\n",
       "      <td>3.0</td>\n",
       "      <td>G</td>\n",
       "      <td>0c67fcbbd</td>\n",
       "      <td>1.141271</td>\n",
       "      <td>T</td>\n",
       "      <td>N</td>\n",
       "      <td>3.0</td>\n",
       "      <td>NaN</td>\n",
       "    </tr>\n",
       "    <tr>\n",
       "      <th>3</th>\n",
       "      <td>3</td>\n",
       "      <td>1</td>\n",
       "      <td>1.0</td>\n",
       "      <td>rA</td>\n",
       "      <td>c</td>\n",
       "      <td>3.0</td>\n",
       "      <td>A</td>\n",
       "      <td>7.0</td>\n",
       "      <td>1.0</td>\n",
       "      <td>1.0</td>\n",
       "      <td>...</td>\n",
       "      <td>0.6</td>\n",
       "      <td>1.0</td>\n",
       "      <td>1.0</td>\n",
       "      <td>G</td>\n",
       "      <td>fee4e3007</td>\n",
       "      <td>0.662382</td>\n",
       "      <td>T</td>\n",
       "      <td>N</td>\n",
       "      <td>3.0</td>\n",
       "      <td>NaN</td>\n",
       "    </tr>\n",
       "    <tr>\n",
       "      <th>4</th>\n",
       "      <td>4</td>\n",
       "      <td>0</td>\n",
       "      <td>1.0</td>\n",
       "      <td>pE</td>\n",
       "      <td>c</td>\n",
       "      <td>3.0</td>\n",
       "      <td>A</td>\n",
       "      <td>7.0</td>\n",
       "      <td>0.0</td>\n",
       "      <td>6.0</td>\n",
       "      <td>...</td>\n",
       "      <td>0.5</td>\n",
       "      <td>0.0</td>\n",
       "      <td>1.0</td>\n",
       "      <td>B</td>\n",
       "      <td>587e040bd</td>\n",
       "      <td>-1.000000</td>\n",
       "      <td>T</td>\n",
       "      <td>N</td>\n",
       "      <td>1.0</td>\n",
       "      <td>13.9537</td>\n",
       "    </tr>\n",
       "  </tbody>\n",
       "</table>\n",
       "<p>5 rows × 31 columns</p>\n",
       "</div>"
      ],
      "text/plain": [
       "   id  target   f0  f1 f2   f3 f4    f5   f6   f7  ...  f19  f20  f21  f22  \\\n",
       "0   0       0  1.0  gL  e  3.0  A   NaN  0.0  6.0  ...  0.5  0.0  3.0    R   \n",
       "1   1       0  0.0  Rj  c  1.0  A   7.0  1.0  4.0  ...  0.4  0.0  1.0  NaN   \n",
       "2   2       0  NaN  In  a  1.0  A  10.0  1.0  6.0  ...  0.5  1.0  3.0    G   \n",
       "3   3       1  1.0  rA  c  3.0  A   7.0  1.0  1.0  ...  0.6  1.0  1.0    G   \n",
       "4   4       0  1.0  pE  c  3.0  A   7.0  0.0  6.0  ...  0.5  0.0  1.0    B   \n",
       "\n",
       "         f23       f24 f25 f26  f27      f28  \n",
       "0  328b0cf4e  0.834041   T   N  1.0  14.2364  \n",
       "1  328b0cf4e  0.686021   T   N  1.0      NaN  \n",
       "2  0c67fcbbd  1.141271   T   N  3.0      NaN  \n",
       "3  fee4e3007  0.662382   T   N  3.0      NaN  \n",
       "4  587e040bd -1.000000   T   N  1.0  13.9537  \n",
       "\n",
       "[5 rows x 31 columns]"
      ]
     },
     "execution_count": 2,
     "metadata": {},
     "output_type": "execute_result"
    }
   ],
   "source": [
    "df_test = pd.read_csv(\"data/challenge2_test.csv\")\n",
    "# Uncomment line below to preview five first rows\n",
    "#df_test.head()\n",
    "\n",
    "df_train = pd.read_csv(\"data/challenge2_train.csv\")\n",
    "# Uncomment line below to preview five first rows\n",
    "df_train.head()"
   ]
  },
  {
   "cell_type": "markdown",
   "id": "18ff695e",
   "metadata": {},
   "source": [
    "## 1.2 Feature preparation\n",
    "First of all let's check how many absent values do we have:"
   ]
  },
  {
   "cell_type": "code",
   "execution_count": 3,
   "id": "90f25f62",
   "metadata": {},
   "outputs": [
    {
     "data": {
      "text/plain": [
       "f0      1459\n",
       "f1      1487\n",
       "f2      1439\n",
       "f3      1488\n",
       "f4      1498\n",
       "f5     11617\n",
       "f6      1490\n",
       "f7      1525\n",
       "f8      1490\n",
       "f9      1489\n",
       "f10     1501\n",
       "f11      145\n",
       "f12     1541\n",
       "f13     1447\n",
       "f14     1451\n",
       "f15     1477\n",
       "f16     1460\n",
       "f17     9762\n",
       "f18     1556\n",
       "f19     1437\n",
       "f20     1464\n",
       "f21     1510\n",
       "f22     1513\n",
       "f23     1516\n",
       "f24     2696\n",
       "f25     1537\n",
       "f26     1474\n",
       "f27     1464\n",
       "f28    13112\n",
       "dtype: int64"
      ]
     },
     "execution_count": 3,
     "metadata": {},
     "output_type": "execute_result"
    }
   ],
   "source": [
    "null_value_stats = df_train.isnull().sum(axis=0)\n",
    "null_value_stats[null_value_stats != 0]"
   ]
  },
  {
   "cell_type": "code",
   "execution_count": 203,
   "id": "46c867e6",
   "metadata": {},
   "outputs": [
    {
     "data": {
      "text/html": [
       "<div>\n",
       "<style scoped>\n",
       "    .dataframe tbody tr th:only-of-type {\n",
       "        vertical-align: middle;\n",
       "    }\n",
       "\n",
       "    .dataframe tbody tr th {\n",
       "        vertical-align: top;\n",
       "    }\n",
       "\n",
       "    .dataframe thead th {\n",
       "        text-align: right;\n",
       "    }\n",
       "</style>\n",
       "<table border=\"1\" class=\"dataframe\">\n",
       "  <thead>\n",
       "    <tr style=\"text-align: right;\">\n",
       "      <th></th>\n",
       "      <th>id</th>\n",
       "      <th>target</th>\n",
       "      <th>f0</th>\n",
       "      <th>f1</th>\n",
       "      <th>f2</th>\n",
       "      <th>f3</th>\n",
       "      <th>f4</th>\n",
       "      <th>f5</th>\n",
       "      <th>f6</th>\n",
       "      <th>f7</th>\n",
       "      <th>...</th>\n",
       "      <th>f19</th>\n",
       "      <th>f20</th>\n",
       "      <th>f21</th>\n",
       "      <th>f22</th>\n",
       "      <th>f23</th>\n",
       "      <th>f24</th>\n",
       "      <th>f25</th>\n",
       "      <th>f26</th>\n",
       "      <th>f27</th>\n",
       "      <th>f28</th>\n",
       "    </tr>\n",
       "  </thead>\n",
       "  <tbody>\n",
       "    <tr>\n",
       "      <th>0</th>\n",
       "      <td>0</td>\n",
       "      <td>0</td>\n",
       "      <td>1.0</td>\n",
       "      <td>gL</td>\n",
       "      <td>e</td>\n",
       "      <td>3.0</td>\n",
       "      <td>A</td>\n",
       "      <td>-999.0</td>\n",
       "      <td>0.0</td>\n",
       "      <td>6.0</td>\n",
       "      <td>...</td>\n",
       "      <td>0.5</td>\n",
       "      <td>0.0</td>\n",
       "      <td>3.0</td>\n",
       "      <td>R</td>\n",
       "      <td>328b0cf4e</td>\n",
       "      <td>0.834041</td>\n",
       "      <td>T</td>\n",
       "      <td>N</td>\n",
       "      <td>1.0</td>\n",
       "      <td>14.2364</td>\n",
       "    </tr>\n",
       "    <tr>\n",
       "      <th>3</th>\n",
       "      <td>3</td>\n",
       "      <td>1</td>\n",
       "      <td>1.0</td>\n",
       "      <td>rA</td>\n",
       "      <td>c</td>\n",
       "      <td>3.0</td>\n",
       "      <td>A</td>\n",
       "      <td>7.0</td>\n",
       "      <td>1.0</td>\n",
       "      <td>1.0</td>\n",
       "      <td>...</td>\n",
       "      <td>0.6</td>\n",
       "      <td>1.0</td>\n",
       "      <td>1.0</td>\n",
       "      <td>G</td>\n",
       "      <td>fee4e3007</td>\n",
       "      <td>0.662382</td>\n",
       "      <td>T</td>\n",
       "      <td>N</td>\n",
       "      <td>3.0</td>\n",
       "      <td>-999.0000</td>\n",
       "    </tr>\n",
       "    <tr>\n",
       "      <th>4</th>\n",
       "      <td>4</td>\n",
       "      <td>0</td>\n",
       "      <td>1.0</td>\n",
       "      <td>pE</td>\n",
       "      <td>c</td>\n",
       "      <td>3.0</td>\n",
       "      <td>A</td>\n",
       "      <td>7.0</td>\n",
       "      <td>0.0</td>\n",
       "      <td>6.0</td>\n",
       "      <td>...</td>\n",
       "      <td>0.5</td>\n",
       "      <td>0.0</td>\n",
       "      <td>1.0</td>\n",
       "      <td>B</td>\n",
       "      <td>587e040bd</td>\n",
       "      <td>-1.000000</td>\n",
       "      <td>T</td>\n",
       "      <td>N</td>\n",
       "      <td>1.0</td>\n",
       "      <td>13.9537</td>\n",
       "    </tr>\n",
       "    <tr>\n",
       "      <th>6</th>\n",
       "      <td>6</td>\n",
       "      <td>0</td>\n",
       "      <td>0.0</td>\n",
       "      <td>fV</td>\n",
       "      <td>d</td>\n",
       "      <td>2.0</td>\n",
       "      <td>A</td>\n",
       "      <td>-999.0</td>\n",
       "      <td>1.0</td>\n",
       "      <td>1.0</td>\n",
       "      <td>...</td>\n",
       "      <td>0.6</td>\n",
       "      <td>1.0</td>\n",
       "      <td>3.0</td>\n",
       "      <td>R</td>\n",
       "      <td>50adfe104</td>\n",
       "      <td>0.601041</td>\n",
       "      <td>F</td>\n",
       "      <td>N</td>\n",
       "      <td>3.0</td>\n",
       "      <td>-999.0000</td>\n",
       "    </tr>\n",
       "    <tr>\n",
       "      <th>7</th>\n",
       "      <td>7</td>\n",
       "      <td>1</td>\n",
       "      <td>1.0</td>\n",
       "      <td>jf</td>\n",
       "      <td>a</td>\n",
       "      <td>3.0</td>\n",
       "      <td>A</td>\n",
       "      <td>11.0</td>\n",
       "      <td>0.0</td>\n",
       "      <td>5.0</td>\n",
       "      <td>...</td>\n",
       "      <td>0.4</td>\n",
       "      <td>0.0</td>\n",
       "      <td>5.0</td>\n",
       "      <td>R</td>\n",
       "      <td>ee60a6711</td>\n",
       "      <td>0.946705</td>\n",
       "      <td>T</td>\n",
       "      <td>N</td>\n",
       "      <td>1.0</td>\n",
       "      <td>-999.0000</td>\n",
       "    </tr>\n",
       "    <tr>\n",
       "      <th>...</th>\n",
       "      <td>...</td>\n",
       "      <td>...</td>\n",
       "      <td>...</td>\n",
       "      <td>...</td>\n",
       "      <td>...</td>\n",
       "      <td>...</td>\n",
       "      <td>...</td>\n",
       "      <td>...</td>\n",
       "      <td>...</td>\n",
       "      <td>...</td>\n",
       "      <td>...</td>\n",
       "      <td>...</td>\n",
       "      <td>...</td>\n",
       "      <td>...</td>\n",
       "      <td>...</td>\n",
       "      <td>...</td>\n",
       "      <td>...</td>\n",
       "      <td>...</td>\n",
       "      <td>...</td>\n",
       "      <td>...</td>\n",
       "      <td>...</td>\n",
       "    </tr>\n",
       "    <tr>\n",
       "      <th>49992</th>\n",
       "      <td>49992</td>\n",
       "      <td>0</td>\n",
       "      <td>1.0</td>\n",
       "      <td>sf</td>\n",
       "      <td>e</td>\n",
       "      <td>1.0</td>\n",
       "      <td>A</td>\n",
       "      <td>11.0</td>\n",
       "      <td>0.0</td>\n",
       "      <td>5.0</td>\n",
       "      <td>...</td>\n",
       "      <td>0.4</td>\n",
       "      <td>1.0</td>\n",
       "      <td>1.0</td>\n",
       "      <td>R</td>\n",
       "      <td>21b92d1a4</td>\n",
       "      <td>0.933073</td>\n",
       "      <td>-999</td>\n",
       "      <td>N</td>\n",
       "      <td>3.0</td>\n",
       "      <td>13.8648</td>\n",
       "    </tr>\n",
       "    <tr>\n",
       "      <th>49993</th>\n",
       "      <td>49993</td>\n",
       "      <td>0</td>\n",
       "      <td>1.0</td>\n",
       "      <td>OZ</td>\n",
       "      <td>d</td>\n",
       "      <td>2.0</td>\n",
       "      <td>B</td>\n",
       "      <td>7.0</td>\n",
       "      <td>1.0</td>\n",
       "      <td>6.0</td>\n",
       "      <td>...</td>\n",
       "      <td>0.4</td>\n",
       "      <td>0.0</td>\n",
       "      <td>5.0</td>\n",
       "      <td>R</td>\n",
       "      <td>81a17716c</td>\n",
       "      <td>0.902081</td>\n",
       "      <td>T</td>\n",
       "      <td>S</td>\n",
       "      <td>1.0</td>\n",
       "      <td>13.9539</td>\n",
       "    </tr>\n",
       "    <tr>\n",
       "      <th>49994</th>\n",
       "      <td>49994</td>\n",
       "      <td>0</td>\n",
       "      <td>0.0</td>\n",
       "      <td>aE</td>\n",
       "      <td>c</td>\n",
       "      <td>1.0</td>\n",
       "      <td>A</td>\n",
       "      <td>-999.0</td>\n",
       "      <td>0.0</td>\n",
       "      <td>4.0</td>\n",
       "      <td>...</td>\n",
       "      <td>0.5</td>\n",
       "      <td>1.0</td>\n",
       "      <td>6.0</td>\n",
       "      <td>-999</td>\n",
       "      <td>56133d013</td>\n",
       "      <td>0.563471</td>\n",
       "      <td>T</td>\n",
       "      <td>N</td>\n",
       "      <td>3.0</td>\n",
       "      <td>14.0088</td>\n",
       "    </tr>\n",
       "    <tr>\n",
       "      <th>49995</th>\n",
       "      <td>49995</td>\n",
       "      <td>1</td>\n",
       "      <td>0.0</td>\n",
       "      <td>tT</td>\n",
       "      <td>d</td>\n",
       "      <td>3.0</td>\n",
       "      <td>-999</td>\n",
       "      <td>11.0</td>\n",
       "      <td>0.0</td>\n",
       "      <td>1.0</td>\n",
       "      <td>...</td>\n",
       "      <td>0.6</td>\n",
       "      <td>1.0</td>\n",
       "      <td>1.0</td>\n",
       "      <td>R</td>\n",
       "      <td>72ccba7a4</td>\n",
       "      <td>0.890576</td>\n",
       "      <td>T</td>\n",
       "      <td>N</td>\n",
       "      <td>3.0</td>\n",
       "      <td>14.0466</td>\n",
       "    </tr>\n",
       "    <tr>\n",
       "      <th>49998</th>\n",
       "      <td>49998</td>\n",
       "      <td>0</td>\n",
       "      <td>0.0</td>\n",
       "      <td>Bx</td>\n",
       "      <td>a</td>\n",
       "      <td>1.0</td>\n",
       "      <td>A</td>\n",
       "      <td>7.0</td>\n",
       "      <td>1.0</td>\n",
       "      <td>4.0</td>\n",
       "      <td>...</td>\n",
       "      <td>0.4</td>\n",
       "      <td>0.0</td>\n",
       "      <td>3.0</td>\n",
       "      <td>R</td>\n",
       "      <td>0dcf409af</td>\n",
       "      <td>0.842615</td>\n",
       "      <td>T</td>\n",
       "      <td>S</td>\n",
       "      <td>1.0</td>\n",
       "      <td>14.3062</td>\n",
       "    </tr>\n",
       "  </tbody>\n",
       "</table>\n",
       "<p>37036 rows × 31 columns</p>\n",
       "</div>"
      ],
      "text/plain": [
       "          id  target   f0  f1 f2   f3    f4     f5   f6   f7  ...  f19  f20  \\\n",
       "0          0       0  1.0  gL  e  3.0     A -999.0  0.0  6.0  ...  0.5  0.0   \n",
       "3          3       1  1.0  rA  c  3.0     A    7.0  1.0  1.0  ...  0.6  1.0   \n",
       "4          4       0  1.0  pE  c  3.0     A    7.0  0.0  6.0  ...  0.5  0.0   \n",
       "6          6       0  0.0  fV  d  2.0     A -999.0  1.0  1.0  ...  0.6  1.0   \n",
       "7          7       1  1.0  jf  a  3.0     A   11.0  0.0  5.0  ...  0.4  0.0   \n",
       "...      ...     ...  ...  .. ..  ...   ...    ...  ...  ...  ...  ...  ...   \n",
       "49992  49992       0  1.0  sf  e  1.0     A   11.0  0.0  5.0  ...  0.4  1.0   \n",
       "49993  49993       0  1.0  OZ  d  2.0     B    7.0  1.0  6.0  ...  0.4  0.0   \n",
       "49994  49994       0  0.0  aE  c  1.0     A -999.0  0.0  4.0  ...  0.5  1.0   \n",
       "49995  49995       1  0.0  tT  d  3.0  -999   11.0  0.0  1.0  ...  0.6  1.0   \n",
       "49998  49998       0  0.0  Bx  a  1.0     A    7.0  1.0  4.0  ...  0.4  0.0   \n",
       "\n",
       "       f21   f22        f23       f24   f25 f26  f27       f28  \n",
       "0      3.0     R  328b0cf4e  0.834041     T   N  1.0   14.2364  \n",
       "3      1.0     G  fee4e3007  0.662382     T   N  3.0 -999.0000  \n",
       "4      1.0     B  587e040bd -1.000000     T   N  1.0   13.9537  \n",
       "6      3.0     R  50adfe104  0.601041     F   N  3.0 -999.0000  \n",
       "7      5.0     R  ee60a6711  0.946705     T   N  1.0 -999.0000  \n",
       "...    ...   ...        ...       ...   ...  ..  ...       ...  \n",
       "49992  1.0     R  21b92d1a4  0.933073  -999   N  3.0   13.8648  \n",
       "49993  5.0     R  81a17716c  0.902081     T   S  1.0   13.9539  \n",
       "49994  6.0  -999  56133d013  0.563471     T   N  3.0   14.0088  \n",
       "49995  1.0     R  72ccba7a4  0.890576     T   N  3.0   14.0466  \n",
       "49998  3.0     R  0dcf409af  0.842615     T   S  1.0   14.3062  \n",
       "\n",
       "[37036 rows x 31 columns]"
      ]
     },
     "execution_count": 203,
     "metadata": {},
     "output_type": "execute_result"
    }
   ],
   "source": [
    "outlier_indices = []\n",
    "for feature in df_train.columns:\n",
    "    if (df_train[feature].dtype == float):\n",
    "        upper = df_train[feature].mean() + df_train[feature].std()*3\n",
    "        lower = df_train[feature].mean() - df_train[feature].std()*3\n",
    "        outlier_indices += list(df_train.index[df_train[feature] < lower])\n",
    "        outlier_indices += list(df_train.index[df_train[feature] > upper])\n",
    "df_train.drop(outlier_indices)\n",
    "\n",
    "        \n",
    "        \n",
    "        "
   ]
  },
  {
   "cell_type": "markdown",
   "id": "79d3a29e",
   "metadata": {},
   "source": [
    "As we se, null values range from ~3% to 15%. Almost all features have a substantial amount of null values, so let's fill them with some number way out of their distributions - so the model would be able to easily distinguish between them and take it into account:"
   ]
  },
  {
   "cell_type": "code",
   "execution_count": 195,
   "id": "9d713cae",
   "metadata": {},
   "outputs": [],
   "source": [
    "df_train.fillna(-999, inplace=True)\n",
    "df_test.fillna(-999, inplace=True)"
   ]
  },
  {
   "cell_type": "markdown",
   "id": "6d9773b5",
   "metadata": {},
   "source": [
    "Next we want to separate **feature** and **label** into **X** and **y**."
   ]
  },
  {
   "cell_type": "code",
   "execution_count": 196,
   "id": "9fecf7bc",
   "metadata": {},
   "outputs": [],
   "source": [
    "X = df_train.drop('target', axis=1)\n",
    "y = df_train.target"
   ]
  },
  {
   "cell_type": "markdown",
   "id": "a7c3a6be",
   "metadata": {},
   "source": [
    "Our features are of different data types. Some are numeric, others categorical and other strings. CatBoost allows us to treat these string features just as categorical ones."
   ]
  },
  {
   "cell_type": "code",
   "execution_count": 197,
   "id": "0a1d0c24",
   "metadata": {},
   "outputs": [
    {
     "data": {
      "text/plain": [
       "array([ 0,  2,  3,  5,  9, 10, 11, 13, 14, 15, 16, 19, 23, 24, 26, 27])"
      ]
     },
     "execution_count": 197,
     "metadata": {},
     "output_type": "execute_result"
    }
   ],
   "source": [
    "X.dtypes\n",
    "\n",
    "categorical_features_indices = np.where(X.dtypes != float)[0]\n",
    "categorical_features_indices"
   ]
  },
  {
   "cell_type": "markdown",
   "id": "08198528",
   "metadata": {},
   "source": [
    "## 1.3 Data splitting\n",
    "Let's split the train data into training and validation sets"
   ]
  },
  {
   "cell_type": "code",
   "execution_count": 210,
   "id": "337dff7e",
   "metadata": {},
   "outputs": [],
   "source": [
    "X_train, X_validation, y_train, y_validation = train_test_split(X, y, train_size=0.89, random_state=42)\n",
    "\n",
    "X_test = df_test"
   ]
  },
  {
   "cell_type": "markdown",
   "id": "6b9e8a74",
   "metadata": {},
   "source": [
    "## 2.1 Model training\n",
    "Create model. Use default parameters, because they provide a good baseline almost all the time. The only thing we would like to specify here is custom_loss parameter, as this would give us an ability to see what's going on in terms of this competition metric - accuracy, as well as to be able to watch for logloss, as it would be more smooth on dataset of such size."
   ]
  },
  {
   "cell_type": "code",
   "execution_count": 211,
   "id": "e10b897f",
   "metadata": {},
   "outputs": [
    {
     "name": "stdout",
     "output_type": "stream",
     "text": [
      "{'iterations': 5000, 'depth': 3, 'use_best_model': True, 'logging_level': 'Silent', 'custom_loss': ['AUC']}\n"
     ]
    }
   ],
   "source": [
    "model = CatBoostClassifier(\n",
    "    custom_loss=[metrics.AUC()],\n",
    "    depth=3,\n",
    "    iterations=5000,\n",
    "    logging_level='Silent',\n",
    "    use_best_model=True,\n",
    ")\n",
    "model_params = model.get_params()\n",
    "print(model_params)"
   ]
  },
  {
   "cell_type": "code",
   "execution_count": 212,
   "id": "db0d4108",
   "metadata": {
    "scrolled": false
   },
   "outputs": [
    {
     "data": {
      "application/vnd.jupyter.widget-view+json": {
       "model_id": "47d0ef29f53c49fab505b7710f649550",
       "version_major": 2,
       "version_minor": 0
      },
      "text/plain": [
       "MetricVisualizer(layout=Layout(align_self='stretch', height='500px'))"
      ]
     },
     "metadata": {},
     "output_type": "display_data"
    }
   ],
   "source": [
    "model.fit(\n",
    "    X_train, y_train,\n",
    "    cat_features=categorical_features_indices,\n",
    "    eval_set=(X_validation, y_validation),\n",
    "    #logging_level='Verbose',  # you can uncomment this for text output\n",
    "    plot=True\n",
    ");"
   ]
  },
  {
   "cell_type": "markdown",
   "id": "722c4472",
   "metadata": {},
   "source": [
    "## 2.2 Model cross validation\n",
    "Cross validation is even better than validation. We use CV to evaluate how well our model performs, by splitting our data set into *k* split (k-fold split validation)."
   ]
  },
  {
   "cell_type": "code",
   "execution_count": 12,
   "id": "6cf76ffb",
   "metadata": {},
   "outputs": [
    {
     "data": {
      "application/vnd.jupyter.widget-view+json": {
       "model_id": "ed806922161e4613b80dd85823bd0671",
       "version_major": 2,
       "version_minor": 0
      },
      "text/plain": [
       "MetricVisualizer(layout=Layout(align_self='stretch', height='500px'))"
      ]
     },
     "metadata": {},
     "output_type": "display_data"
    }
   ],
   "source": [
    "cv_params = model.get_params()\n",
    "cv_params.update({\n",
    "    'loss_function': metrics.Logloss()\n",
    "})\n",
    "cv_data = cv(\n",
    "    Pool(X, y, cat_features=categorical_features_indices),\n",
    "    cv_params,\n",
    "    plot=True\n",
    ")"
   ]
  },
  {
   "cell_type": "markdown",
   "id": "9756641d",
   "metadata": {},
   "source": [
    "Now we have values of our loss functions at each boosting step averaged by 3 folds, which should provide us with a more accurate estimation of our model performance:"
   ]
  },
  {
   "cell_type": "code",
   "execution_count": 13,
   "id": "910ff7bd",
   "metadata": {},
   "outputs": [
    {
     "name": "stdout",
     "output_type": "stream",
     "text": [
      "Best validation accuracy score: 0.82±0.00 on step 4578\n"
     ]
    }
   ],
   "source": [
    "print('Best validation accuracy score: {:.2f}±{:.2f} on step {}'.format(\n",
    "    np.max(cv_data['test-Accuracy-mean']),\n",
    "    cv_data['test-Accuracy-std'][np.argmax(cv_data['test-Accuracy-mean'])],\n",
    "    np.argmax(cv_data['test-Accuracy-mean'])\n",
    "))"
   ]
  },
  {
   "cell_type": "code",
   "execution_count": 14,
   "id": "6147b1cb",
   "metadata": {},
   "outputs": [
    {
     "name": "stdout",
     "output_type": "stream",
     "text": [
      "Precise validation accuracy score: 0.8216399546310625\n"
     ]
    }
   ],
   "source": [
    "print('Precise validation accuracy score: {}'.format(np.max(cv_data['test-Accuracy-mean'])))"
   ]
  },
  {
   "cell_type": "markdown",
   "id": "ca6a9da3",
   "metadata": {},
   "source": [
    "## 2.3 Model applying\n",
    "Apply our model to the test set. "
   ]
  },
  {
   "cell_type": "code",
   "execution_count": 213,
   "id": "fe0a0590",
   "metadata": {},
   "outputs": [
    {
     "name": "stdout",
     "output_type": "stream",
     "text": [
      "[0 1 0 0 0 0 0 0 0 0]\n",
      "[[0.70709618 0.29290382]\n",
      " [0.29189203 0.70810797]\n",
      " [0.81513173 0.18486827]\n",
      " [0.61203359 0.38796641]\n",
      " [0.79943292 0.20056708]\n",
      " [0.98595432 0.01404568]\n",
      " [0.71398094 0.28601906]\n",
      " [0.77214617 0.22785383]\n",
      " [0.53811961 0.46188039]\n",
      " [0.86471115 0.13528885]]\n"
     ]
    }
   ],
   "source": [
    "predictions = model.predict(X_test)\n",
    "predictions_probs = model.predict_proba(X_test)\n",
    "print(predictions[:10])\n",
    "print(predictions_probs[:10])"
   ]
  },
  {
   "cell_type": "markdown",
   "id": "17a281bb",
   "metadata": {},
   "source": [
    "When we created the model we specified random_seed=42 parameter. By default CatBoost chooses a random value for seed."
   ]
  },
  {
   "cell_type": "code",
   "execution_count": 20,
   "id": "f5111a9c",
   "metadata": {},
   "outputs": [
    {
     "name": "stdout",
     "output_type": "stream",
     "text": [
      "Random seed assigned for this model: 0\n"
     ]
    }
   ],
   "source": [
    "model_without_seed = CatBoostClassifier(iterations=10, logging_level='Silent')\n",
    "model_without_seed.fit(X, y, cat_features=categorical_features_indices)\n",
    "\n",
    "print('Random seed assigned for this model: {}'.format(model_without_seed.random_seed_))"
   ]
  },
  {
   "cell_type": "markdown",
   "id": "8ec01f5e",
   "metadata": {},
   "source": [
    "We define parameters and Pool. The Pool stores information about the data set such as features, labels, categorical feature indices, weights and more."
   ]
  },
  {
   "cell_type": "code",
   "execution_count": 119,
   "id": "81aef9c5",
   "metadata": {},
   "outputs": [],
   "source": [
    "params = {\n",
    "    'iterations': 1000,\n",
    "    'eval_metric': metrics.AUC(),\n",
    "    'logging_level': 'Silent',\n",
    "    'use_best_model': False,\n",
    "}\n",
    "train_pool = Pool(X_train, y_train, cat_features=categorical_features_indices)\n",
    "validate_pool = Pool(X_validation, y_validation, cat_features=categorical_features_indices)"
   ]
  },
  {
   "cell_type": "markdown",
   "id": "4fd51dce",
   "metadata": {},
   "source": [
    "## 3.1 Using the best model"
   ]
  },
  {
   "cell_type": "code",
   "execution_count": 120,
   "id": "e1318e5e",
   "metadata": {},
   "outputs": [
    {
     "data": {
      "application/vnd.jupyter.widget-view+json": {
       "model_id": "39e295ff1c204bc0a25799eb4f3564b6",
       "version_major": 2,
       "version_minor": 0
      },
      "text/plain": [
       "MetricVisualizer(layout=Layout(align_self='stretch', height='500px'))"
      ]
     },
     "metadata": {},
     "output_type": "display_data"
    },
    {
     "data": {
      "application/vnd.jupyter.widget-view+json": {
       "model_id": "e65ecd51c4094a20ac4b85865977883b",
       "version_major": 2,
       "version_minor": 0
      },
      "text/plain": [
       "MetricVisualizer(layout=Layout(align_self='stretch', height='500px'))"
      ]
     },
     "metadata": {},
     "output_type": "display_data"
    },
    {
     "name": "stdout",
     "output_type": "stream",
     "text": [
      "Simple model validation accuracy: 0.8186\n",
      "\n",
      "Best model validation accuracy: 0.8171\n"
     ]
    }
   ],
   "source": [
    "model = CatBoostClassifier(**params)\n",
    "model.fit(train_pool, eval_set=validate_pool, plot=True)\n",
    "\n",
    "best_model_params = params.copy()\n",
    "best_model_params.update({\n",
    "    'use_best_model': True\n",
    "})\n",
    "best_model = CatBoostClassifier(**best_model_params)\n",
    "best_model.fit(train_pool, eval_set=validate_pool, plot=True);\n",
    "\n",
    "print('Simple model validation accuracy: {:.4}'.format(\n",
    "    accuracy_score(y_validation, model.predict(X_validation))\n",
    "))\n",
    "print('')\n",
    "\n",
    "print('Best model validation accuracy: {:.4}'.format(\n",
    "    accuracy_score(y_validation, best_model.predict(X_validation))\n",
    "))"
   ]
  },
  {
   "cell_type": "markdown",
   "id": "4b83b48c",
   "metadata": {},
   "source": [
    "## 3.2 Early stopping\n",
    "Early stopping saves time and improves the quality. If you have a validation set it is always better to use early stopping."
   ]
  },
  {
   "cell_type": "code",
   "execution_count": 121,
   "id": "86c06826",
   "metadata": {},
   "outputs": [
    {
     "name": "stdout",
     "output_type": "stream",
     "text": [
      "CPU times: user 10min 9s, sys: 2min 40s, total: 12min 50s\n",
      "Wall time: 1min 41s\n"
     ]
    },
    {
     "data": {
      "text/plain": [
       "<catboost.core.CatBoostClassifier at 0x7fdabe381070>"
      ]
     },
     "execution_count": 121,
     "metadata": {},
     "output_type": "execute_result"
    }
   ],
   "source": [
    "%%time\n",
    "model = CatBoostClassifier(**params)\n",
    "model.fit(train_pool, eval_set=validate_pool)"
   ]
  },
  {
   "cell_type": "code",
   "execution_count": 122,
   "id": "05961802",
   "metadata": {},
   "outputs": [
    {
     "name": "stdout",
     "output_type": "stream",
     "text": [
      "CPU times: user 3min 27s, sys: 56.2 s, total: 4min 24s\n",
      "Wall time: 35.7 s\n"
     ]
    },
    {
     "data": {
      "text/plain": [
       "<catboost.core.CatBoostClassifier at 0x7fdaebf4d4c0>"
      ]
     },
     "execution_count": 122,
     "metadata": {},
     "output_type": "execute_result"
    }
   ],
   "source": [
    "%%time\n",
    "earlystop_params = params.copy()\n",
    "earlystop_params.update({\n",
    "    'od_type': 'Iter',\n",
    "    'od_wait': 40\n",
    "})\n",
    "earlystop_model = CatBoostClassifier(**earlystop_params)\n",
    "earlystop_model.fit(train_pool, eval_set=validate_pool);"
   ]
  },
  {
   "cell_type": "code",
   "execution_count": 123,
   "id": "88795f4d",
   "metadata": {},
   "outputs": [
    {
     "name": "stdout",
     "output_type": "stream",
     "text": [
      "Simple model tree count: 1000\n",
      "Simple model validation accuracy: 0.8186\n",
      "\n",
      "Early-stopped model tree count: 366\n",
      "Early-stopped model validation accuracy: 0.8174\n"
     ]
    }
   ],
   "source": [
    "print('Simple model tree count: {}'.format(model.tree_count_))\n",
    "print('Simple model validation accuracy: {:.4}'.format(\n",
    "    accuracy_score(y_validation, model.predict(X_validation))\n",
    "))\n",
    "print('')\n",
    "\n",
    "print('Early-stopped model tree count: {}'.format(earlystop_model.tree_count_))\n",
    "print('Early-stopped model validation accuracy: {:.4}'.format(\n",
    "    accuracy_score(y_validation, earlystop_model.predict(X_validation))\n",
    "))"
   ]
  },
  {
   "cell_type": "markdown",
   "id": "e8578ea4",
   "metadata": {},
   "source": [
    "## 3.3 Feature importance\n",
    "Can be useful to understand which features that make the greatest contribution to the result. CatBoost have a get_feature_importance method."
   ]
  },
  {
   "cell_type": "code",
   "execution_count": 126,
   "id": "67424729",
   "metadata": {},
   "outputs": [
    {
     "name": "stderr",
     "output_type": "stream",
     "text": [
      "Custom logger is already specified. Specify more than one logger at same time is not thread safe."
     ]
    },
    {
     "name": "stdout",
     "output_type": "stream",
     "text": [
      "f13: 19.702077010546226\n",
      "f2: 10.213826235824111\n",
      "f16: 9.834959321873816\n",
      "f3: 9.383652431760291\n",
      "f1: 4.80140200049706\n",
      "f10: 4.419148527063817\n",
      "f25: 4.308352659626008\n",
      "f21: 4.232181331040457\n",
      "f19: 3.8946503565226984\n",
      "f4: 3.6300916159068692\n",
      "f9: 3.5220781108771244\n",
      "f15: 3.2654248178058674\n",
      "f18: 3.2168403258482647\n",
      "f12: 3.076976966354835\n",
      "f7: 2.5717001337610372\n",
      "f8: 1.82452001451719\n",
      "f26: 1.3445533787686919\n",
      "f22: 1.0535828108025616\n",
      "f27: 0.9432234955744927\n",
      "f6: 0.8653204415351367\n",
      "f28: 0.7901266389760926\n",
      "f11: 0.6411747902429134\n",
      "f17: 0.6347882759541463\n",
      "f14: 0.5107386473714294\n",
      "f20: 0.3892372967794393\n",
      "f24: 0.3130349194278956\n",
      "f23: 0.30807339863751665\n",
      "f5: 0.2563407649350473\n",
      "f0: 0.051923281168939794\n",
      "id: 0.0\n"
     ]
    }
   ],
   "source": [
    "model = CatBoostClassifier(iterations=1000, depth=3, logging_level='Silent').fit(train_pool)\n",
    "feature_importances = model.get_feature_importance(train_pool)\n",
    "feature_names = X_train.columns\n",
    "for score, name in sorted(zip(feature_importances, feature_names), reverse=True):\n",
    "    print('{}: {}'.format(name, score))"
   ]
  },
  {
   "cell_type": "markdown",
   "id": "3758b388",
   "metadata": {},
   "source": [
    "## 3.4 Eval metrics"
   ]
  },
  {
   "cell_type": "code",
   "execution_count": 127,
   "id": "98eed06b",
   "metadata": {},
   "outputs": [
    {
     "data": {
      "application/vnd.jupyter.widget-view+json": {
       "model_id": "38ca71ac3ce94ae4a3b3fa147135d6f5",
       "version_major": 2,
       "version_minor": 0
      },
      "text/plain": [
       "MetricVisualizer(layout=Layout(align_self='stretch', height='500px'))"
      ]
     },
     "metadata": {},
     "output_type": "display_data"
    }
   ],
   "source": [
    "model = CatBoostClassifier(iterations=100, random_seed=42, logging_level='Silent').fit(train_pool)\n",
    "eval_metrics = model.eval_metrics(validate_pool, [metrics.AUC()], plot=True)"
   ]
  },
  {
   "cell_type": "code",
   "execution_count": 128,
   "id": "1358ee81",
   "metadata": {},
   "outputs": [
    {
     "name": "stdout",
     "output_type": "stream",
     "text": [
      "[0.6178702980761996, 0.6899841170610492, 0.7113417042872108, 0.7251012574848756, 0.7334566237017517, 0.7359463828411371]\n"
     ]
    }
   ],
   "source": [
    "print(eval_metrics['AUC'][:6])"
   ]
  },
  {
   "cell_type": "markdown",
   "id": "07779be5",
   "metadata": {},
   "source": [
    "## 3.5 Save model"
   ]
  },
  {
   "cell_type": "code",
   "execution_count": null,
   "id": "ab7ef515",
   "metadata": {},
   "outputs": [],
   "source": [
    "model.save_model('catboost_model.dump')"
   ]
  },
  {
   "cell_type": "markdown",
   "id": "652bd5bd",
   "metadata": {},
   "source": [
    "## 3.6 Load model"
   ]
  },
  {
   "cell_type": "code",
   "execution_count": null,
   "id": "e7982bcb",
   "metadata": {},
   "outputs": [],
   "source": [
    "model = CatBoostClassifier()\n",
    "model.load_model('catboost_model.dump')"
   ]
  },
  {
   "cell_type": "markdown",
   "id": "d254ed14",
   "metadata": {},
   "source": [
    "## 4.1 Write predictions to file\n",
    "Write the predictions made by the model to a csv file on the format (id, target). "
   ]
  },
  {
   "cell_type": "code",
   "execution_count": 214,
   "id": "1435afb4",
   "metadata": {},
   "outputs": [],
   "source": [
    "stacked_columns = np.column_stack((df_test[\"id\"], predictions_probs[:, 1]))\n",
    "df = pd.DataFrame(stacked_columns, columns=[\"id\", \"target\"])\n",
    "convert_dict={\"id\": int, \"target\" : float}\n",
    "df = df.astype(convert_dict)\n",
    "df.to_csv(\"predictions.csv\", index = False)"
   ]
  },
  {
   "cell_type": "code",
   "execution_count": null,
   "id": "815d4bdc",
   "metadata": {},
   "outputs": [],
   "source": []
  }
 ],
 "metadata": {
  "kernelspec": {
   "display_name": "Python 3 (ipykernel)",
   "language": "python",
   "name": "python3"
  },
  "language_info": {
   "codemirror_mode": {
    "name": "ipython",
    "version": 3
   },
   "file_extension": ".py",
   "mimetype": "text/x-python",
   "name": "python",
   "nbconvert_exporter": "python",
   "pygments_lexer": "ipython3",
   "version": "3.9.7"
  }
 },
 "nbformat": 4,
 "nbformat_minor": 5
}
