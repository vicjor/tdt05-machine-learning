{
 "cells": [
  {
   "cell_type": "markdown",
   "id": "ada02c21",
   "metadata": {},
   "source": [
    "## Import modules"
   ]
  },
  {
   "cell_type": "code",
   "execution_count": 2,
   "id": "326a2e03",
   "metadata": {},
   "outputs": [],
   "source": [
    "import sklearn\n",
    "import xgboost\n",
    "import catboost\n",
    "import lightgbm\n",
    "import imblearn\n",
    "import lime\n",
    "import seaborn\n",
    "import mlxtend\n",
    "import tsfresh\n",
    "import rpy2\n",
    "import graphviz\n",
    "import pydot"
   ]
  },
  {
   "cell_type": "markdown",
   "id": "abf65720",
   "metadata": {},
   "source": [
    "## Read data"
   ]
  },
  {
   "cell_type": "code",
   "execution_count": null,
   "id": "7a8b018e",
   "metadata": {},
   "outputs": [],
   "source": []
  }
 ],
 "metadata": {
  "kernelspec": {
   "display_name": "Python 3 (ipykernel)",
   "language": "python",
   "name": "python3"
  },
  "language_info": {
   "codemirror_mode": {
    "name": "ipython",
    "version": 3
   },
   "file_extension": ".py",
   "mimetype": "text/x-python",
   "name": "python",
   "nbconvert_exporter": "python",
   "pygments_lexer": "ipython3",
   "version": "3.9.6"
  }
 },
 "nbformat": 4,
 "nbformat_minor": 5
}
