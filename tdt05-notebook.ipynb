{
 "cells": [
  {
   "cell_type": "markdown",
   "id": "ada02c21",
   "metadata": {},
   "source": [
    "## Import modules"
   ]
  },
  {
   "cell_type": "code",
   "execution_count": 4,
   "id": "326a2e03",
   "metadata": {},
   "outputs": [
    {
     "name": "stdout",
     "output_type": "stream",
     "text": [
      "No errors, all good!\n"
     ]
    }
   ],
   "source": [
    "import sklearn\n",
    "from sklearn import model_selection\n",
    "from sklearn.ensemble import AdaBoostClassifier\n",
    "import xgboost\n",
    "import catboost\n",
    "import lightgbm\n",
    "import imblearn\n",
    "import lime\n",
    "import seaborn\n",
    "import mlxtend\n",
    "import tsfresh\n",
    "import rpy2\n",
    "import graphviz\n",
    "import pydot\n",
    "import pandas\n",
    "print(\"No errors, all good!\")"
   ]
  },
  {
   "cell_type": "markdown",
   "id": "abf65720",
   "metadata": {},
   "source": [
    "## Read data"
   ]
  },
  {
   "cell_type": "code",
   "execution_count": 17,
   "id": "7a8b018e",
   "metadata": {},
   "outputs": [],
   "source": [
    "df_test = pandas.read_csv(\"data/challenge2_test.csv\")\n",
    "# Uncomment line below to preview five first rows\n",
    "#df_test.head()\n",
    "\n",
    "df_train = pandas.read_csv(\"data/challenge2_train.csv\")\n",
    "# Uncomment line below to preview five first rows\n",
    "#df_train.head()\n",
    "\n",
    "df_demo = pandas.read_csv(\"data/demo_prediction.txt\")\n",
    "# Uncomment line below to preview five first rows\n",
    "#df_demo.head()"
   ]
  },
  {
   "cell_type": "code",
   "execution_count": null,
   "id": "e0854f05",
   "metadata": {},
   "outputs": [],
   "source": []
  }
 ],
 "metadata": {
  "kernelspec": {
   "display_name": "Python 3 (ipykernel)",
   "language": "python",
   "name": "python3"
  },
  "language_info": {
   "codemirror_mode": {
    "name": "ipython",
    "version": 3
   },
   "file_extension": ".py",
   "mimetype": "text/x-python",
   "name": "python",
   "nbconvert_exporter": "python",
   "pygments_lexer": "ipython3",
   "version": "3.9.6"
  }
 },
 "nbformat": 4,
 "nbformat_minor": 5
}
